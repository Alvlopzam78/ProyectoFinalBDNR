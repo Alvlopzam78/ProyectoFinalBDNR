{
 "cells": [
  {
   "cell_type": "code",
   "execution_count": 44,
   "metadata": {},
   "outputs": [],
   "source": [
    "import requests\n",
    "from pymongo import MongoClient\n",
    "import json\n",
    "client = MongoClient(\"mongodb://localhost:27017/\")\n",
    "db = client[\"HP\"]\n",
    "col = db[\"characters\"]\n",
    "string = \"https://hp-api.onrender.com/api/characters\"\n",
    "response = requests.get(string)\n",
    "for x in json.loads(response.text):\n",
    "    col.insert_one(x)"
   ]
  },
  {
   "cell_type": "code",
   "execution_count": null,
   "metadata": {},
   "outputs": [],
   "source": []
  }
 ],
 "metadata": {
  "kernelspec": {
   "display_name": "base",
   "language": "python",
   "name": "python3"
  },
  "language_info": {
   "codemirror_mode": {
    "name": "ipython",
    "version": 3
   },
   "file_extension": ".py",
   "mimetype": "text/x-python",
   "name": "python",
   "nbconvert_exporter": "python",
   "pygments_lexer": "ipython3",
   "version": "3.8.5"
  },
  "orig_nbformat": 4
 },
 "nbformat": 4,
 "nbformat_minor": 2
}
